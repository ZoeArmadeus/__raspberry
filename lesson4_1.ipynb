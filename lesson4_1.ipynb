{
 "cells": [
  {
   "cell_type": "code",
   "execution_count": 24,
   "metadata": {},
   "outputs": [],
   "source": [
    "class Person(object):\n",
    "    def __init__(self,name,age=18,gender=\"Male\"):\n",
    "        #attribut\n",
    "        self.name = name\n",
    "        self.age = age\n",
    "        self.gender = gender\n",
    "    def description(self):\n",
    "        #實體的方法\n",
    "        print(\"Name: \",self.name)\n",
    "        print(\"Age: \",self.age)\n",
    "        print(\"Gender: \",self.gender)\n",
    "        \n",
    "class Student(Person):\n",
    "    def __init__(self,name,age,gender):\n",
    "        super().__init__(name, age=age, gender=gender)\n",
    "        #super執行副類別,name是'引數'呼叫;age=age是'引數、名稱'呼叫\n",
    "    \n",
    "    \n",
    "        \n",
    "    "
   ]
  },
  {
   "cell_type": "code",
   "execution_count": 11,
   "metadata": {},
   "outputs": [
    {
     "name": "stdout",
     "output_type": "stream",
     "text": [
      "Name:  John\n",
      "Age:  36\n",
      "Gender:  Female\n"
     ]
    }
   ],
   "source": [
    "p1 = Person(name=\"John\",gender=\"Female\",age=36 )\n",
    "#用\"引數\"不用照順序\n",
    "p1.description()"
   ]
  },
  {
   "cell_type": "code",
   "execution_count": 25,
   "metadata": {},
   "outputs": [
    {
     "name": "stdout",
     "output_type": "stream",
     "text": [
      "Name:  Robert\n",
      "Age:  26\n",
      "Gender:  Male\n"
     ]
    }
   ],
   "source": [
    "s2 = Student(\"Robert\",26,\"Male\")\n",
    "s2.description()"
   ]
  }
 ],
 "metadata": {
  "kernelspec": {
   "display_name": "Python 3",
   "language": "python",
   "name": "python3"
  },
  "language_info": {
   "codemirror_mode": {
    "name": "ipython",
    "version": 3
   },
   "file_extension": ".py",
   "mimetype": "text/x-python",
   "name": "python",
   "nbconvert_exporter": "python",
   "pygments_lexer": "ipython3",
   "version": "3.9.2"
  },
  "orig_nbformat": 4
 },
 "nbformat": 4,
 "nbformat_minor": 2
}
